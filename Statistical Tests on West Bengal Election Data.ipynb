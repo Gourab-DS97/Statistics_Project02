{
 "cells": [
  {
   "cell_type": "markdown",
   "id": "8f00b744",
   "metadata": {},
   "source": [
    "# Importing Libraries:"
   ]
  },
  {
   "cell_type": "code",
   "execution_count": 1,
   "id": "d0589d85",
   "metadata": {},
   "outputs": [],
   "source": [
    "import warnings\n",
    "import numpy as np\n",
    "import pandas as pd\n",
    "warnings.filterwarnings('ignore')\n",
    "from scipy.stats import stats, f, chi2_contingency\n",
    "from statsmodels.stats.proportion import proportions_ztest"
   ]
  },
  {
   "cell_type": "markdown",
   "id": "adbb493d",
   "metadata": {},
   "source": [
    "# Given File:"
   ]
  },
  {
   "cell_type": "code",
   "execution_count": 2,
   "id": "d61bc392",
   "metadata": {
    "scrolled": true
   },
   "outputs": [
    {
     "data": {
      "text/html": [
       "<div>\n",
       "<style scoped>\n",
       "    .dataframe tbody tr th:only-of-type {\n",
       "        vertical-align: middle;\n",
       "    }\n",
       "\n",
       "    .dataframe tbody tr th {\n",
       "        vertical-align: top;\n",
       "    }\n",
       "\n",
       "    .dataframe thead th {\n",
       "        text-align: right;\n",
       "    }\n",
       "</style>\n",
       "<table border=\"1\" class=\"dataframe\">\n",
       "  <thead>\n",
       "    <tr style=\"text-align: right;\">\n",
       "      <th></th>\n",
       "      <th>#</th>\n",
       "      <th>PC Name</th>\n",
       "      <th>No</th>\n",
       "      <th>Type</th>\n",
       "      <th>State</th>\n",
       "      <th>Winning Candidate</th>\n",
       "      <th>Party</th>\n",
       "      <th>Electors</th>\n",
       "      <th>Votes</th>\n",
       "      <th>Turnout</th>\n",
       "      <th>Margin</th>\n",
       "      <th>Margin %</th>\n",
       "    </tr>\n",
       "  </thead>\n",
       "  <tbody>\n",
       "    <tr>\n",
       "      <th>0</th>\n",
       "      <td>1</td>\n",
       "      <td>Alipurduars</td>\n",
       "      <td>2</td>\n",
       "      <td>ST</td>\n",
       "      <td>West Bengal</td>\n",
       "      <td>Pijus Tirkey</td>\n",
       "      <td>Revolutionary Socialist Party</td>\n",
       "      <td>736742</td>\n",
       "      <td>557382</td>\n",
       "      <td>0.757</td>\n",
       "      <td>30182</td>\n",
       "      <td>0.054</td>\n",
       "    </tr>\n",
       "    <tr>\n",
       "      <th>1</th>\n",
       "      <td>2</td>\n",
       "      <td>Arambagh</td>\n",
       "      <td>28</td>\n",
       "      <td>GEN</td>\n",
       "      <td>West Bengal</td>\n",
       "      <td>Anil Basu</td>\n",
       "      <td>Communist Party Of India (MARXIST)</td>\n",
       "      <td>768645</td>\n",
       "      <td>659108</td>\n",
       "      <td>0.858</td>\n",
       "      <td>14160</td>\n",
       "      <td>0.021</td>\n",
       "    </tr>\n",
       "    <tr>\n",
       "      <th>2</th>\n",
       "      <td>3</td>\n",
       "      <td>Asansol</td>\n",
       "      <td>38</td>\n",
       "      <td>SC</td>\n",
       "      <td>West Bengal</td>\n",
       "      <td>Anada Gopal Mukherjee</td>\n",
       "      <td>Indian National Congress</td>\n",
       "      <td>893685</td>\n",
       "      <td>625065</td>\n",
       "      <td>0.699</td>\n",
       "      <td>86666</td>\n",
       "      <td>0.139</td>\n",
       "    </tr>\n",
       "    <tr>\n",
       "      <th>3</th>\n",
       "      <td>4</td>\n",
       "      <td>Balurghat</td>\n",
       "      <td>6</td>\n",
       "      <td>GEN</td>\n",
       "      <td>West Bengal</td>\n",
       "      <td>Palas Barman</td>\n",
       "      <td>Revolutionary Socialist Party</td>\n",
       "      <td>768931</td>\n",
       "      <td>626120</td>\n",
       "      <td>0.814</td>\n",
       "      <td>22217</td>\n",
       "      <td>0.035</td>\n",
       "    </tr>\n",
       "    <tr>\n",
       "      <th>4</th>\n",
       "      <td>5</td>\n",
       "      <td>Bankura</td>\n",
       "      <td>35</td>\n",
       "      <td>GEN</td>\n",
       "      <td>West Bengal</td>\n",
       "      <td>Acharia Basudeb</td>\n",
       "      <td>Communist Party Of India (MARXIST)</td>\n",
       "      <td>771050</td>\n",
       "      <td>567298</td>\n",
       "      <td>0.736</td>\n",
       "      <td>24216</td>\n",
       "      <td>0.043</td>\n",
       "    </tr>\n",
       "  </tbody>\n",
       "</table>\n",
       "</div>"
      ],
      "text/plain": [
       "     #          PC Name  No Type        State      Winning Candidate  \\\n",
       "0        1  Alipurduars   2   ST  West Bengal           Pijus Tirkey   \n",
       "1        2     Arambagh  28  GEN  West Bengal              Anil Basu   \n",
       "2        3      Asansol  38   SC  West Bengal  Anada Gopal Mukherjee   \n",
       "3        4    Balurghat   6  GEN  West Bengal           Palas Barman   \n",
       "4        5      Bankura  35  GEN  West Bengal        Acharia Basudeb   \n",
       "\n",
       "                                Party  Electors   Votes  Turnout  Margin  \\\n",
       "0       Revolutionary Socialist Party    736742  557382    0.757   30182   \n",
       "1  Communist Party Of India (MARXIST)    768645  659108    0.858   14160   \n",
       "2            Indian National Congress    893685  625065    0.699   86666   \n",
       "3       Revolutionary Socialist Party    768931  626120    0.814   22217   \n",
       "4  Communist Party Of India (MARXIST)    771050  567298    0.736   24216   \n",
       "\n",
       "   Margin %  \n",
       "0     0.054  \n",
       "1     0.021  \n",
       "2     0.139  \n",
       "3     0.035  \n",
       "4     0.043  "
      ]
     },
     "execution_count": 2,
     "metadata": {},
     "output_type": "execute_result"
    }
   ],
   "source": [
    "# 1984 data:\n",
    "df1 = pd.read_excel('exam data june 2023.xlsx', sheet_name=0)\n",
    "df1.head()"
   ]
  },
  {
   "cell_type": "code",
   "execution_count": 3,
   "id": "1fd74ead",
   "metadata": {},
   "outputs": [
    {
     "data": {
      "text/html": [
       "<div>\n",
       "<style scoped>\n",
       "    .dataframe tbody tr th:only-of-type {\n",
       "        vertical-align: middle;\n",
       "    }\n",
       "\n",
       "    .dataframe tbody tr th {\n",
       "        vertical-align: top;\n",
       "    }\n",
       "\n",
       "    .dataframe thead th {\n",
       "        text-align: right;\n",
       "    }\n",
       "</style>\n",
       "<table border=\"1\" class=\"dataframe\">\n",
       "  <thead>\n",
       "    <tr style=\"text-align: right;\">\n",
       "      <th></th>\n",
       "      <th>#</th>\n",
       "      <th>PC Name</th>\n",
       "      <th>No</th>\n",
       "      <th>Type</th>\n",
       "      <th>State</th>\n",
       "      <th>Winning Candidate</th>\n",
       "      <th>Party</th>\n",
       "      <th>Electors</th>\n",
       "      <th>Votes</th>\n",
       "      <th>Turnout</th>\n",
       "      <th>Margin</th>\n",
       "      <th>Margin %</th>\n",
       "    </tr>\n",
       "  </thead>\n",
       "  <tbody>\n",
       "    <tr>\n",
       "      <th>0</th>\n",
       "      <td>1</td>\n",
       "      <td>Alipurduars</td>\n",
       "      <td>2</td>\n",
       "      <td>ST</td>\n",
       "      <td>West Bengal</td>\n",
       "      <td>Joachim Baxla</td>\n",
       "      <td>Revolutionary Socialist Party</td>\n",
       "      <td>1000857</td>\n",
       "      <td>854456</td>\n",
       "      <td>0.854</td>\n",
       "      <td>137810</td>\n",
       "      <td>0.161</td>\n",
       "    </tr>\n",
       "    <tr>\n",
       "      <th>1</th>\n",
       "      <td>2</td>\n",
       "      <td>Arambagh</td>\n",
       "      <td>28</td>\n",
       "      <td>GEN</td>\n",
       "      <td>West Bengal</td>\n",
       "      <td>Anil Basu</td>\n",
       "      <td>Communist Party Of India (MARXIST)</td>\n",
       "      <td>1067420</td>\n",
       "      <td>931653</td>\n",
       "      <td>0.873</td>\n",
       "      <td>226333</td>\n",
       "      <td>0.243</td>\n",
       "    </tr>\n",
       "    <tr>\n",
       "      <th>2</th>\n",
       "      <td>3</td>\n",
       "      <td>Asansol</td>\n",
       "      <td>38</td>\n",
       "      <td>SC</td>\n",
       "      <td>West Bengal</td>\n",
       "      <td>Haradhan Roy</td>\n",
       "      <td>Communist Party Of India (MARXIST)</td>\n",
       "      <td>1207881</td>\n",
       "      <td>841736</td>\n",
       "      <td>0.697</td>\n",
       "      <td>46950</td>\n",
       "      <td>0.056</td>\n",
       "    </tr>\n",
       "    <tr>\n",
       "      <th>3</th>\n",
       "      <td>4</td>\n",
       "      <td>Balurghat</td>\n",
       "      <td>6</td>\n",
       "      <td>GEN</td>\n",
       "      <td>West Bengal</td>\n",
       "      <td>Barman Ranen</td>\n",
       "      <td>Revolutionary Socialist Party</td>\n",
       "      <td>1067771</td>\n",
       "      <td>926427</td>\n",
       "      <td>0.868</td>\n",
       "      <td>143707</td>\n",
       "      <td>0.155</td>\n",
       "    </tr>\n",
       "    <tr>\n",
       "      <th>4</th>\n",
       "      <td>5</td>\n",
       "      <td>Bankura</td>\n",
       "      <td>35</td>\n",
       "      <td>GEN</td>\n",
       "      <td>West Bengal</td>\n",
       "      <td>Acharia Basudeb</td>\n",
       "      <td>Communist Party Of India (MARXIST)</td>\n",
       "      <td>994144</td>\n",
       "      <td>774916</td>\n",
       "      <td>0.780</td>\n",
       "      <td>228987</td>\n",
       "      <td>0.295</td>\n",
       "    </tr>\n",
       "  </tbody>\n",
       "</table>\n",
       "</div>"
      ],
      "text/plain": [
       "     #          PC Name  No Type        State Winning Candidate  \\\n",
       "0        1  Alipurduars   2   ST  West Bengal     Joachim Baxla   \n",
       "1        2     Arambagh  28  GEN  West Bengal         Anil Basu   \n",
       "2        3      Asansol  38   SC  West Bengal      Haradhan Roy   \n",
       "3        4    Balurghat   6  GEN  West Bengal      Barman Ranen   \n",
       "4        5      Bankura  35  GEN  West Bengal   Acharia Basudeb   \n",
       "\n",
       "                                Party  Electors   Votes  Turnout  Margin  \\\n",
       "0       Revolutionary Socialist Party   1000857  854456    0.854  137810   \n",
       "1  Communist Party Of India (MARXIST)   1067420  931653    0.873  226333   \n",
       "2  Communist Party Of India (MARXIST)   1207881  841736    0.697   46950   \n",
       "3       Revolutionary Socialist Party   1067771  926427    0.868  143707   \n",
       "4  Communist Party Of India (MARXIST)    994144  774916    0.780  228987   \n",
       "\n",
       "   Margin %  \n",
       "0     0.161  \n",
       "1     0.243  \n",
       "2     0.056  \n",
       "3     0.155  \n",
       "4     0.295  "
      ]
     },
     "execution_count": 3,
     "metadata": {},
     "output_type": "execute_result"
    }
   ],
   "source": [
    "# 1996 data:\n",
    "df2 = pd.read_excel('exam data june 2023.xlsx', sheet_name=1)\n",
    "df2.head()"
   ]
  },
  {
   "cell_type": "markdown",
   "id": "21bce25c",
   "metadata": {},
   "source": [
    "# 1. Two Sample T-Test (unequal variance): \n",
    "My Question: In West Bengal, whether Avg no of electors in 1996 is greater than that of 1984? <br>\n",
    "**H0:** mu_electors_1996 <= mu_electors_1984 <br>\n",
    "**H1:** mu_electors_1996 > mu_electors_1984 <br>\n",
    "**it will be a right tail test**"
   ]
  },
  {
   "cell_type": "markdown",
   "id": "a6b17a82",
   "metadata": {},
   "source": [
    "#### data where year = 1996"
   ]
  },
  {
   "cell_type": "code",
   "execution_count": 4,
   "id": "6a450663",
   "metadata": {},
   "outputs": [
    {
     "data": {
      "text/plain": [
       "0    1000857\n",
       "1    1067420\n",
       "2    1207881\n",
       "Name: Electors, dtype: int64"
      ]
     },
     "execution_count": 4,
     "metadata": {},
     "output_type": "execute_result"
    }
   ],
   "source": [
    "df2['Electors'].head(3)"
   ]
  },
  {
   "cell_type": "markdown",
   "id": "746f406b",
   "metadata": {},
   "source": [
    "#### data where year = 1984"
   ]
  },
  {
   "cell_type": "code",
   "execution_count": 5,
   "id": "b6effaad",
   "metadata": {},
   "outputs": [
    {
     "data": {
      "text/plain": [
       "0    736742\n",
       "1    768645\n",
       "2    893685\n",
       "Name: Electors, dtype: int64"
      ]
     },
     "execution_count": 5,
     "metadata": {},
     "output_type": "execute_result"
    }
   ],
   "source": [
    "df1['Electors'].head(3)"
   ]
  },
  {
   "cell_type": "code",
   "execution_count": 6,
   "id": "0341cf99",
   "metadata": {},
   "outputs": [
    {
     "data": {
      "text/plain": [
       "Ttest_indResult(statistic=12.538082509676459, pvalue=1.2745143369422528e-18)"
      ]
     },
     "execution_count": 6,
     "metadata": {},
     "output_type": "execute_result"
    }
   ],
   "source": [
    "stats.ttest_ind(a = df2['Electors'], \n",
    "                b = df1['Electors'], \n",
    "                equal_var=False, \n",
    "                alternative='greater')"
   ]
  },
  {
   "cell_type": "markdown",
   "id": "ba1ecb19",
   "metadata": {},
   "source": [
    "#### **<u>Conclusion:</u>**\n",
    "since p value is less than 0.05; so we will reject H0. <br>\n",
    "it means In West Bengal, Avg no of electors in 1996 is greater than that of 1984"
   ]
  },
  {
   "cell_type": "markdown",
   "id": "b14af4e8",
   "metadata": {},
   "source": [
    "# 2. Z-Proportion Test:\n",
    "My Question: whether proportion of communist party stood in 1984 is greater than proportion of communist party in 1996? <br>\n",
    "**H0:** p1 <= p2 <br>\n",
    "**H1:** p1 > p2 <br>\n",
    "**it will be a right tail test**"
   ]
  },
  {
   "cell_type": "markdown",
   "id": "03a4ddc5",
   "metadata": {},
   "source": [
    "## <u>Steps Required:</u> \n",
    "#### STEP-1: divide entire dataframe wrt year 1984 & 1996\n",
    "#### STEP-2: now check how many times communist party stood? \n",
    "#### then find the proportion of communist party in 1984 & do same for 1996"
   ]
  },
  {
   "cell_type": "code",
   "execution_count": 7,
   "id": "48a22fed",
   "metadata": {},
   "outputs": [
    {
     "name": "stdout",
     "output_type": "stream",
     "text": [
      "n1 =  42\n"
     ]
    },
    {
     "data": {
      "text/html": [
       "<div>\n",
       "<style scoped>\n",
       "    .dataframe tbody tr th:only-of-type {\n",
       "        vertical-align: middle;\n",
       "    }\n",
       "\n",
       "    .dataframe tbody tr th {\n",
       "        vertical-align: top;\n",
       "    }\n",
       "\n",
       "    .dataframe thead th {\n",
       "        text-align: right;\n",
       "    }\n",
       "</style>\n",
       "<table border=\"1\" class=\"dataframe\">\n",
       "  <thead>\n",
       "    <tr style=\"text-align: right;\">\n",
       "      <th></th>\n",
       "      <th>#</th>\n",
       "      <th>PC Name</th>\n",
       "      <th>No</th>\n",
       "      <th>Type</th>\n",
       "      <th>State</th>\n",
       "      <th>Winning Candidate</th>\n",
       "      <th>Party</th>\n",
       "      <th>Electors</th>\n",
       "      <th>Votes</th>\n",
       "      <th>Turnout</th>\n",
       "      <th>Margin</th>\n",
       "      <th>Margin %</th>\n",
       "    </tr>\n",
       "  </thead>\n",
       "  <tbody>\n",
       "    <tr>\n",
       "      <th>0</th>\n",
       "      <td>1</td>\n",
       "      <td>Alipurduars</td>\n",
       "      <td>2</td>\n",
       "      <td>ST</td>\n",
       "      <td>West Bengal</td>\n",
       "      <td>Pijus Tirkey</td>\n",
       "      <td>Revolutionary Socialist Party</td>\n",
       "      <td>736742</td>\n",
       "      <td>557382</td>\n",
       "      <td>0.757</td>\n",
       "      <td>30182</td>\n",
       "      <td>0.054</td>\n",
       "    </tr>\n",
       "    <tr>\n",
       "      <th>1</th>\n",
       "      <td>2</td>\n",
       "      <td>Arambagh</td>\n",
       "      <td>28</td>\n",
       "      <td>GEN</td>\n",
       "      <td>West Bengal</td>\n",
       "      <td>Anil Basu</td>\n",
       "      <td>Communist Party Of India (MARXIST)</td>\n",
       "      <td>768645</td>\n",
       "      <td>659108</td>\n",
       "      <td>0.858</td>\n",
       "      <td>14160</td>\n",
       "      <td>0.021</td>\n",
       "    </tr>\n",
       "    <tr>\n",
       "      <th>2</th>\n",
       "      <td>3</td>\n",
       "      <td>Asansol</td>\n",
       "      <td>38</td>\n",
       "      <td>SC</td>\n",
       "      <td>West Bengal</td>\n",
       "      <td>Anada Gopal Mukherjee</td>\n",
       "      <td>Indian National Congress</td>\n",
       "      <td>893685</td>\n",
       "      <td>625065</td>\n",
       "      <td>0.699</td>\n",
       "      <td>86666</td>\n",
       "      <td>0.139</td>\n",
       "    </tr>\n",
       "    <tr>\n",
       "      <th>3</th>\n",
       "      <td>4</td>\n",
       "      <td>Balurghat</td>\n",
       "      <td>6</td>\n",
       "      <td>GEN</td>\n",
       "      <td>West Bengal</td>\n",
       "      <td>Palas Barman</td>\n",
       "      <td>Revolutionary Socialist Party</td>\n",
       "      <td>768931</td>\n",
       "      <td>626120</td>\n",
       "      <td>0.814</td>\n",
       "      <td>22217</td>\n",
       "      <td>0.035</td>\n",
       "    </tr>\n",
       "    <tr>\n",
       "      <th>4</th>\n",
       "      <td>5</td>\n",
       "      <td>Bankura</td>\n",
       "      <td>35</td>\n",
       "      <td>GEN</td>\n",
       "      <td>West Bengal</td>\n",
       "      <td>Acharia Basudeb</td>\n",
       "      <td>Communist Party Of India (MARXIST)</td>\n",
       "      <td>771050</td>\n",
       "      <td>567298</td>\n",
       "      <td>0.736</td>\n",
       "      <td>24216</td>\n",
       "      <td>0.043</td>\n",
       "    </tr>\n",
       "  </tbody>\n",
       "</table>\n",
       "</div>"
      ],
      "text/plain": [
       "     #          PC Name  No Type        State      Winning Candidate  \\\n",
       "0        1  Alipurduars   2   ST  West Bengal           Pijus Tirkey   \n",
       "1        2     Arambagh  28  GEN  West Bengal              Anil Basu   \n",
       "2        3      Asansol  38   SC  West Bengal  Anada Gopal Mukherjee   \n",
       "3        4    Balurghat   6  GEN  West Bengal           Palas Barman   \n",
       "4        5      Bankura  35  GEN  West Bengal        Acharia Basudeb   \n",
       "\n",
       "                                Party  Electors   Votes  Turnout  Margin  \\\n",
       "0       Revolutionary Socialist Party    736742  557382    0.757   30182   \n",
       "1  Communist Party Of India (MARXIST)    768645  659108    0.858   14160   \n",
       "2            Indian National Congress    893685  625065    0.699   86666   \n",
       "3       Revolutionary Socialist Party    768931  626120    0.814   22217   \n",
       "4  Communist Party Of India (MARXIST)    771050  567298    0.736   24216   \n",
       "\n",
       "   Margin %  \n",
       "0     0.054  \n",
       "1     0.021  \n",
       "2     0.139  \n",
       "3     0.035  \n",
       "4     0.043  "
      ]
     },
     "execution_count": 7,
     "metadata": {},
     "output_type": "execute_result"
    }
   ],
   "source": [
    "df11 = df1.copy()\n",
    "n1 = df11.shape[0]\n",
    "print('n1 = ', n1)\n",
    "df11.head()"
   ]
  },
  {
   "cell_type": "code",
   "execution_count": 8,
   "id": "c840c6d5",
   "metadata": {},
   "outputs": [],
   "source": [
    "x1 = df11[df11['Party'] == 'Communist Party Of India (MARXIST)'].shape[0]\n",
    "p1 = x1/n1"
   ]
  },
  {
   "cell_type": "code",
   "execution_count": 9,
   "id": "e0e7c94f",
   "metadata": {},
   "outputs": [
    {
     "name": "stdout",
     "output_type": "stream",
     "text": [
      "n2 =  42\n"
     ]
    },
    {
     "data": {
      "text/html": [
       "<div>\n",
       "<style scoped>\n",
       "    .dataframe tbody tr th:only-of-type {\n",
       "        vertical-align: middle;\n",
       "    }\n",
       "\n",
       "    .dataframe tbody tr th {\n",
       "        vertical-align: top;\n",
       "    }\n",
       "\n",
       "    .dataframe thead th {\n",
       "        text-align: right;\n",
       "    }\n",
       "</style>\n",
       "<table border=\"1\" class=\"dataframe\">\n",
       "  <thead>\n",
       "    <tr style=\"text-align: right;\">\n",
       "      <th></th>\n",
       "      <th>#</th>\n",
       "      <th>PC Name</th>\n",
       "      <th>No</th>\n",
       "      <th>Type</th>\n",
       "      <th>State</th>\n",
       "      <th>Winning Candidate</th>\n",
       "      <th>Party</th>\n",
       "      <th>Electors</th>\n",
       "      <th>Votes</th>\n",
       "      <th>Turnout</th>\n",
       "      <th>Margin</th>\n",
       "      <th>Margin %</th>\n",
       "    </tr>\n",
       "  </thead>\n",
       "  <tbody>\n",
       "    <tr>\n",
       "      <th>0</th>\n",
       "      <td>1</td>\n",
       "      <td>Alipurduars</td>\n",
       "      <td>2</td>\n",
       "      <td>ST</td>\n",
       "      <td>West Bengal</td>\n",
       "      <td>Joachim Baxla</td>\n",
       "      <td>Revolutionary Socialist Party</td>\n",
       "      <td>1000857</td>\n",
       "      <td>854456</td>\n",
       "      <td>0.854</td>\n",
       "      <td>137810</td>\n",
       "      <td>0.161</td>\n",
       "    </tr>\n",
       "    <tr>\n",
       "      <th>1</th>\n",
       "      <td>2</td>\n",
       "      <td>Arambagh</td>\n",
       "      <td>28</td>\n",
       "      <td>GEN</td>\n",
       "      <td>West Bengal</td>\n",
       "      <td>Anil Basu</td>\n",
       "      <td>Communist Party Of India (MARXIST)</td>\n",
       "      <td>1067420</td>\n",
       "      <td>931653</td>\n",
       "      <td>0.873</td>\n",
       "      <td>226333</td>\n",
       "      <td>0.243</td>\n",
       "    </tr>\n",
       "    <tr>\n",
       "      <th>2</th>\n",
       "      <td>3</td>\n",
       "      <td>Asansol</td>\n",
       "      <td>38</td>\n",
       "      <td>SC</td>\n",
       "      <td>West Bengal</td>\n",
       "      <td>Haradhan Roy</td>\n",
       "      <td>Communist Party Of India (MARXIST)</td>\n",
       "      <td>1207881</td>\n",
       "      <td>841736</td>\n",
       "      <td>0.697</td>\n",
       "      <td>46950</td>\n",
       "      <td>0.056</td>\n",
       "    </tr>\n",
       "    <tr>\n",
       "      <th>3</th>\n",
       "      <td>4</td>\n",
       "      <td>Balurghat</td>\n",
       "      <td>6</td>\n",
       "      <td>GEN</td>\n",
       "      <td>West Bengal</td>\n",
       "      <td>Barman Ranen</td>\n",
       "      <td>Revolutionary Socialist Party</td>\n",
       "      <td>1067771</td>\n",
       "      <td>926427</td>\n",
       "      <td>0.868</td>\n",
       "      <td>143707</td>\n",
       "      <td>0.155</td>\n",
       "    </tr>\n",
       "    <tr>\n",
       "      <th>4</th>\n",
       "      <td>5</td>\n",
       "      <td>Bankura</td>\n",
       "      <td>35</td>\n",
       "      <td>GEN</td>\n",
       "      <td>West Bengal</td>\n",
       "      <td>Acharia Basudeb</td>\n",
       "      <td>Communist Party Of India (MARXIST)</td>\n",
       "      <td>994144</td>\n",
       "      <td>774916</td>\n",
       "      <td>0.780</td>\n",
       "      <td>228987</td>\n",
       "      <td>0.295</td>\n",
       "    </tr>\n",
       "  </tbody>\n",
       "</table>\n",
       "</div>"
      ],
      "text/plain": [
       "     #          PC Name  No Type        State Winning Candidate  \\\n",
       "0        1  Alipurduars   2   ST  West Bengal     Joachim Baxla   \n",
       "1        2     Arambagh  28  GEN  West Bengal         Anil Basu   \n",
       "2        3      Asansol  38   SC  West Bengal      Haradhan Roy   \n",
       "3        4    Balurghat   6  GEN  West Bengal      Barman Ranen   \n",
       "4        5      Bankura  35  GEN  West Bengal   Acharia Basudeb   \n",
       "\n",
       "                                Party  Electors   Votes  Turnout  Margin  \\\n",
       "0       Revolutionary Socialist Party   1000857  854456    0.854  137810   \n",
       "1  Communist Party Of India (MARXIST)   1067420  931653    0.873  226333   \n",
       "2  Communist Party Of India (MARXIST)   1207881  841736    0.697   46950   \n",
       "3       Revolutionary Socialist Party   1067771  926427    0.868  143707   \n",
       "4  Communist Party Of India (MARXIST)    994144  774916    0.780  228987   \n",
       "\n",
       "   Margin %  \n",
       "0     0.161  \n",
       "1     0.243  \n",
       "2     0.056  \n",
       "3     0.155  \n",
       "4     0.295  "
      ]
     },
     "execution_count": 9,
     "metadata": {},
     "output_type": "execute_result"
    }
   ],
   "source": [
    "df12 = df2.copy()\n",
    "n2 = df12.shape[0]\n",
    "print('n2 = ', n2)\n",
    "df12.head()"
   ]
  },
  {
   "cell_type": "code",
   "execution_count": 10,
   "id": "e7f36aa8",
   "metadata": {},
   "outputs": [],
   "source": [
    "x2 = df12[df12['Party'] == 'Communist Party Of India (MARXIST)'].shape[0]\n",
    "p2 = x2/n2"
   ]
  },
  {
   "cell_type": "code",
   "execution_count": 11,
   "id": "68aa8b1c",
   "metadata": {},
   "outputs": [
    {
     "name": "stdout",
     "output_type": "stream",
     "text": [
      "z stat =  -1.091398848450092\n",
      "p value =  0.862451290545551\n"
     ]
    }
   ],
   "source": [
    "zstat, pvalue = proportions_ztest(count = np.array([x1,x2]), \n",
    "                                  nobs =np.array([n1,n2]) , \n",
    "                                  alternative='larger')\n",
    "print('z stat = ', zstat)\n",
    "print('p value = ', pvalue)"
   ]
  },
  {
   "cell_type": "markdown",
   "id": "7abc181a",
   "metadata": {},
   "source": [
    "#### **<u>Conclusion:</u>**\n",
    "Since p value is greater than 0.05; so we will accept H0. <br>\n",
    "it means proportion of communist party in 1984 is not greater than proportion of communist party in 1996. "
   ]
  },
  {
   "cell_type": "markdown",
   "id": "3d67e91d",
   "metadata": {},
   "source": [
    "# 3. F Test:\n",
    "My Question: whether variance of votes in 1984 is not equal to variance of votes in 1996? <br>\n",
    "**H0:** (sigma1)^2 = (sigma2)^2  <br>\n",
    "**H1:** (sigma1)^2 is not equal to (sigma2)^2  <br>\n",
    "**it will be two tail test**"
   ]
  },
  {
   "cell_type": "code",
   "execution_count": 12,
   "id": "457d6ce3",
   "metadata": {},
   "outputs": [],
   "source": [
    "alpha = 0.05     # significance level"
   ]
  },
  {
   "cell_type": "markdown",
   "id": "c8d83230",
   "metadata": {},
   "source": [
    "#### Votes in 1984:"
   ]
  },
  {
   "cell_type": "code",
   "execution_count": 13,
   "id": "f1cfab95",
   "metadata": {},
   "outputs": [
    {
     "name": "stdout",
     "output_type": "stream",
     "text": [
      "s1 =  62119.17027953356\n",
      "dof1 =  41\n"
     ]
    }
   ],
   "source": [
    "votes_1984 = df1['Votes']\n",
    "n1 = votes_1984.size\n",
    "dof1 = n1-1\n",
    "s1 = np.std(votes_1984)\n",
    "print('s1 = ', s1)\n",
    "print('dof1 = ', dof1)"
   ]
  },
  {
   "cell_type": "markdown",
   "id": "307a4041",
   "metadata": {},
   "source": [
    "#### Votes in 1996:"
   ]
  },
  {
   "cell_type": "code",
   "execution_count": 14,
   "id": "1c5f53c5",
   "metadata": {},
   "outputs": [
    {
     "name": "stdout",
     "output_type": "stream",
     "text": [
      "s2 =  122099.97421419293\n",
      "dof2 =  41\n"
     ]
    }
   ],
   "source": [
    "votes_1996 = df2['Votes']\n",
    "n2 = votes_1996.size\n",
    "dof2 = n2-1\n",
    "s2 = np.std(votes_1996)\n",
    "print('s2 = ', s2)\n",
    "print('dof2 = ', dof2)"
   ]
  },
  {
   "cell_type": "code",
   "execution_count": 15,
   "id": "af4667d8",
   "metadata": {},
   "outputs": [
    {
     "name": "stdout",
     "output_type": "stream",
     "text": [
      "Fcritical_right =  1.86\n",
      "Fcritical_left =  0.538\n",
      "Fcalculated =  1.9655763859167528\n"
     ]
    }
   ],
   "source": [
    "# we have to put big S in Numerator (s2 > s1)\n",
    "num = s2 / (n2-1)\n",
    "dof_num = (n2-1)\n",
    "den = s1 / (n1-1)\n",
    "dof_den = (n1-1)\n",
    "Fcalculated = num / den\n",
    "Fcritical_right = f.isf(alpha/2, dfn = dof_num, dfd = dof_den)\n",
    "Fcritical_left = f.isf(1-alpha/2, dof_num, dof_den)\n",
    "print('Fcritical_right = ', np.round(Fcritical_right , 3))\n",
    "print('Fcritical_left = ', np.round(Fcritical_left , 3))\n",
    "print('Fcalculated = ', Fcalculated)"
   ]
  },
  {
   "cell_type": "markdown",
   "id": "a01ece97",
   "metadata": {},
   "source": [
    "#### **<u>Conclusion:</u>**\n",
    "Since Fcalculated > Fcritical_right_tail; so we will reject H0 <br>\n",
    "it means in West Bengal, variance of votes in 1984 was not equal to variance of votes in 1996."
   ]
  },
  {
   "cell_type": "markdown",
   "id": "ee7dbb67",
   "metadata": {},
   "source": [
    "# 4. ANOVA Test:\n",
    "My Assumption: In 1996, avg votes given by Gen candidates is same as avg votes given by ST candidates which is equal to avg votes given by SC candiates? <br>\n",
    "**H0:** mu1_votes_gen = mu2_votes_st = mu3_votes_sc <br>\n",
    "**H1:** mu1_votes_gen <> mu2_votes_st <> mu3_votes_sc "
   ]
  },
  {
   "cell_type": "code",
   "execution_count": 16,
   "id": "7eab93df",
   "metadata": {},
   "outputs": [],
   "source": [
    "series1 = df2[df2['Type'] == 'GEN']['Votes'].values.tolist()\n",
    "series2 = df2[df2['Type'] == 'ST']['Votes'].values.tolist()\n",
    "series3 = df2[df2['Type'] == 'SC']['Votes'].values.tolist()"
   ]
  },
  {
   "cell_type": "code",
   "execution_count": 17,
   "id": "27843901",
   "metadata": {
    "scrolled": true
   },
   "outputs": [
    {
     "data": {
      "text/plain": [
       "F_onewayResult(statistic=0.7212595448321925, pvalue=0.4925098871298438)"
      ]
     },
     "execution_count": 17,
     "metadata": {},
     "output_type": "execute_result"
    }
   ],
   "source": [
    "stats.f_oneway(series1, series2, series3)"
   ]
  },
  {
   "cell_type": "markdown",
   "id": "1efcf29c",
   "metadata": {},
   "source": [
    "#### **<u>Conclusion:</u>**\n",
    "since pvalue is greater than 0.05; we will accept H0 <br>\n",
    "It means in West Bengal, avg votes given by Gen candidates was same as avg votes given by ST candidates which was equal to avg votes given by SC candiates in the year of 1996."
   ]
  },
  {
   "cell_type": "markdown",
   "id": "4dd014fc",
   "metadata": {},
   "source": [
    "# 5. Chi-Square Test:\n",
    "**H0:** Two categories (Type & Party) are independent <br>\n",
    "**H1:** Two categories are dependent <br>\n",
    "we are considering year 1996"
   ]
  },
  {
   "cell_type": "code",
   "execution_count": 18,
   "id": "ec96aa47",
   "metadata": {},
   "outputs": [
    {
     "data": {
      "text/html": [
       "<div>\n",
       "<style scoped>\n",
       "    .dataframe tbody tr th:only-of-type {\n",
       "        vertical-align: middle;\n",
       "    }\n",
       "\n",
       "    .dataframe tbody tr th {\n",
       "        vertical-align: top;\n",
       "    }\n",
       "\n",
       "    .dataframe thead th {\n",
       "        text-align: right;\n",
       "    }\n",
       "</style>\n",
       "<table border=\"1\" class=\"dataframe\">\n",
       "  <thead>\n",
       "    <tr style=\"text-align: right;\">\n",
       "      <th>Party</th>\n",
       "      <th>All India Forward Bloc</th>\n",
       "      <th>Communist Party Of India</th>\n",
       "      <th>Communist Party Of India (MARXIST)</th>\n",
       "      <th>Indian National Congress</th>\n",
       "      <th>Revolutionary Socialist Party</th>\n",
       "    </tr>\n",
       "    <tr>\n",
       "      <th>Type</th>\n",
       "      <th></th>\n",
       "      <th></th>\n",
       "      <th></th>\n",
       "      <th></th>\n",
       "      <th></th>\n",
       "    </tr>\n",
       "  </thead>\n",
       "  <tbody>\n",
       "    <tr>\n",
       "      <th>GEN</th>\n",
       "      <td>1</td>\n",
       "      <td>1</td>\n",
       "      <td>16</td>\n",
       "      <td>9</td>\n",
       "      <td>3</td>\n",
       "    </tr>\n",
       "    <tr>\n",
       "      <th>SC</th>\n",
       "      <td>2</td>\n",
       "      <td>2</td>\n",
       "      <td>6</td>\n",
       "      <td>0</td>\n",
       "      <td>0</td>\n",
       "    </tr>\n",
       "    <tr>\n",
       "      <th>ST</th>\n",
       "      <td>0</td>\n",
       "      <td>0</td>\n",
       "      <td>1</td>\n",
       "      <td>0</td>\n",
       "      <td>1</td>\n",
       "    </tr>\n",
       "  </tbody>\n",
       "</table>\n",
       "</div>"
      ],
      "text/plain": [
       "Party  All India Forward Bloc  Communist Party Of India  \\\n",
       "Type                                                      \n",
       "GEN                         1                         1   \n",
       "SC                          2                         2   \n",
       "ST                          0                         0   \n",
       "\n",
       "Party  Communist Party Of India (MARXIST)  Indian National Congress  \\\n",
       "Type                                                                  \n",
       "GEN                                    16                         9   \n",
       "SC                                      6                         0   \n",
       "ST                                      1                         0   \n",
       "\n",
       "Party  Revolutionary Socialist Party  \n",
       "Type                                  \n",
       "GEN                                3  \n",
       "SC                                 0  \n",
       "ST                                 1  "
      ]
     },
     "execution_count": 18,
     "metadata": {},
     "output_type": "execute_result"
    }
   ],
   "source": [
    "cross_df = pd.crosstab(index = df2['Type'], columns = df2['Party'])\n",
    "cross_df"
   ]
  },
  {
   "cell_type": "code",
   "execution_count": 19,
   "id": "3d05f24b",
   "metadata": {},
   "outputs": [
    {
     "name": "stdout",
     "output_type": "stream",
     "text": [
      "Degrees of Freedom =  8\n",
      "Calculated Chi-Square value =  14.202898550724633\n",
      "P value =  0.07662783876171508\n"
     ]
    }
   ],
   "source": [
    "chi2, p, dof, expected = chi2_contingency(observed=cross_df)\n",
    "print('Degrees of Freedom = ', dof)\n",
    "print('Calculated Chi-Square value = ', chi2)\n",
    "print('P value = ', p)"
   ]
  },
  {
   "cell_type": "markdown",
   "id": "d36895b1",
   "metadata": {},
   "source": [
    "#### **<u>Conclusion:</u>**\n",
    "since pvalue is greater than 0.05; so we will accept H0 <br>\n",
    "It means the two categories are independent to each other."
   ]
  }
 ],
 "metadata": {
  "kernelspec": {
   "display_name": "Python 3 (ipykernel)",
   "language": "python",
   "name": "python3"
  },
  "language_info": {
   "codemirror_mode": {
    "name": "ipython",
    "version": 3
   },
   "file_extension": ".py",
   "mimetype": "text/x-python",
   "name": "python",
   "nbconvert_exporter": "python",
   "pygments_lexer": "ipython3",
   "version": "3.10.6"
  }
 },
 "nbformat": 4,
 "nbformat_minor": 5
}
